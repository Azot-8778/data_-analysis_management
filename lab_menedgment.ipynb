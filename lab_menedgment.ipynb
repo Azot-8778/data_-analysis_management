{
 "cells": [
  {
   "cell_type": "code",
   "execution_count": 10,
   "id": "e495f40e",
   "metadata": {},
   "outputs": [],
   "source": [
    "import os\n",
    "from datetime import datetime\n",
    "from datetime import datetime,date\n",
    "import pandas as pd\n",
    "import seaborn as sns\n",
    "from sklearn import preprocessing\n",
    "from sklearn.cluster import KMeans,DBSCAN\n",
    "from sklearn import preprocessing\n",
    "from sklearn.preprocessing import StandardScaler\n",
    "import matplotlib.pyplot as plt\n",
    "import numpy as np\n",
    "import random\n",
    "%matplotlib inline\n",
    "import warnings\n",
    "warnings.simplefilter(\"ignore\")"
   ]
  },
  {
   "cell_type": "code",
   "execution_count": 11,
   "id": "a7f6794d",
   "metadata": {},
   "outputs": [
    {
     "data": {
      "text/html": [
       "<div>\n",
       "<style scoped>\n",
       "    .dataframe tbody tr th:only-of-type {\n",
       "        vertical-align: middle;\n",
       "    }\n",
       "\n",
       "    .dataframe tbody tr th {\n",
       "        vertical-align: top;\n",
       "    }\n",
       "\n",
       "    .dataframe thead th {\n",
       "        text-align: right;\n",
       "    }\n",
       "</style>\n",
       "<table border=\"1\" class=\"dataframe\">\n",
       "  <thead>\n",
       "    <tr style=\"text-align: right;\">\n",
       "      <th></th>\n",
       "      <th>TransactionID</th>\n",
       "      <th>CustomerID</th>\n",
       "      <th>CustomerDOB</th>\n",
       "      <th>CustGender</th>\n",
       "      <th>CustLocation</th>\n",
       "      <th>CustAccountBalance</th>\n",
       "      <th>TransactionDate</th>\n",
       "      <th>TransactionTime</th>\n",
       "      <th>TransactionAmount (INR)</th>\n",
       "    </tr>\n",
       "  </thead>\n",
       "  <tbody>\n",
       "    <tr>\n",
       "      <th>0</th>\n",
       "      <td>T1</td>\n",
       "      <td>C5841053</td>\n",
       "      <td>10/1/94</td>\n",
       "      <td>F</td>\n",
       "      <td>JAMSHEDPUR</td>\n",
       "      <td>17,819</td>\n",
       "      <td>2/8/16</td>\n",
       "      <td>143207</td>\n",
       "      <td>25</td>\n",
       "    </tr>\n",
       "    <tr>\n",
       "      <th>1</th>\n",
       "      <td>T2</td>\n",
       "      <td>C2142763</td>\n",
       "      <td>4/4/57</td>\n",
       "      <td>M</td>\n",
       "      <td>JHAJJAR</td>\n",
       "      <td>2,271</td>\n",
       "      <td>2/8/16</td>\n",
       "      <td>141858</td>\n",
       "      <td>27,999</td>\n",
       "    </tr>\n",
       "    <tr>\n",
       "      <th>2</th>\n",
       "      <td>T3</td>\n",
       "      <td>C4417068</td>\n",
       "      <td>26/11/96</td>\n",
       "      <td>F</td>\n",
       "      <td>MUMBAI</td>\n",
       "      <td>17,874</td>\n",
       "      <td>2/8/16</td>\n",
       "      <td>142712</td>\n",
       "      <td>459</td>\n",
       "    </tr>\n",
       "    <tr>\n",
       "      <th>3</th>\n",
       "      <td>T4</td>\n",
       "      <td>C5342380</td>\n",
       "      <td>14/9/73</td>\n",
       "      <td>F</td>\n",
       "      <td>MUMBAI</td>\n",
       "      <td>866,503</td>\n",
       "      <td>2/8/16</td>\n",
       "      <td>142714</td>\n",
       "      <td>2,060</td>\n",
       "    </tr>\n",
       "    <tr>\n",
       "      <th>4</th>\n",
       "      <td>T5</td>\n",
       "      <td>C9031234</td>\n",
       "      <td>24/3/88</td>\n",
       "      <td>F</td>\n",
       "      <td>NAVI MUMBAI</td>\n",
       "      <td>6,714</td>\n",
       "      <td>2/8/16</td>\n",
       "      <td>181156</td>\n",
       "      <td>1,762</td>\n",
       "    </tr>\n",
       "  </tbody>\n",
       "</table>\n",
       "</div>"
      ],
      "text/plain": [
       "  TransactionID CustomerID CustomerDOB CustGender CustLocation  \\\n",
       "0            T1   C5841053     10/1/94          F   JAMSHEDPUR   \n",
       "1            T2   C2142763      4/4/57          M      JHAJJAR   \n",
       "2            T3   C4417068    26/11/96          F       MUMBAI   \n",
       "3            T4   C5342380     14/9/73          F       MUMBAI   \n",
       "4            T5   C9031234     24/3/88          F  NAVI MUMBAI   \n",
       "\n",
       "   CustAccountBalance TransactionDate  TransactionTime  \\\n",
       "0              17,819          2/8/16           143207   \n",
       "1               2,271          2/8/16           141858   \n",
       "2              17,874          2/8/16           142712   \n",
       "3             866,503          2/8/16           142714   \n",
       "4               6,714          2/8/16           181156   \n",
       "\n",
       "   TransactionAmount (INR)  \n",
       "0                       25  \n",
       "1                   27,999  \n",
       "2                      459  \n",
       "3                    2,060  \n",
       "4                    1,762  "
      ]
     },
     "execution_count": 11,
     "metadata": {},
     "output_type": "execute_result"
    }
   ],
   "source": [
    "data = pd.read_csv('bank_transactions.csv')\n",
    "data.head()"
   ]
  },
  {
   "cell_type": "markdown",
   "id": "35325de3",
   "metadata": {},
   "source": [
    "Этот набор данных состоит из 1 миллиона транзакций более 800 тысяч клиентов для банка в Индии. Данные содержат информацию:\n",
    "- возраст клиента (DOB)\n",
    "- местоположение\n",
    "- пол\n",
    "- баланс счета во время транзакции \n",
    "- дaту транзакции \n",
    "- время транзакции\n",
    "- сумма транзакции (INR - индийская рупия - 0.75 рублей)"
   ]
  },
  {
   "cell_type": "code",
   "execution_count": 12,
   "id": "88be20b7",
   "metadata": {},
   "outputs": [],
   "source": [
    "#data.drop([\"TransactionID\"],axis=1,inplace=True) #удаляет id тк они мешаются"
   ]
  },
  {
   "cell_type": "code",
   "execution_count": 13,
   "id": "46d71e0a",
   "metadata": {},
   "outputs": [
    {
     "data": {
      "text/plain": [
       "(1048567, 9)"
      ]
     },
     "execution_count": 13,
     "metadata": {},
     "output_type": "execute_result"
    }
   ],
   "source": [
    "data.shape"
   ]
  },
  {
   "cell_type": "code",
   "execution_count": 14,
   "id": "34b0fb19",
   "metadata": {},
   "outputs": [
    {
     "data": {
      "text/plain": [
       "TransactionID               object\n",
       "CustomerID                  object\n",
       "CustomerDOB                 object\n",
       "CustGender                  object\n",
       "CustLocation                object\n",
       "CustAccountBalance         float64\n",
       "TransactionDate             object\n",
       "TransactionTime              int64\n",
       "TransactionAmount (INR)    float64\n",
       "dtype: object"
      ]
     },
     "execution_count": 14,
     "metadata": {},
     "output_type": "execute_result"
    }
   ],
   "source": [
    "data.dtypes"
   ]
  },
  {
   "cell_type": "code",
   "execution_count": 15,
   "id": "1442dcd1",
   "metadata": {},
   "outputs": [
    {
     "data": {
      "text/html": [
       "<div>\n",
       "<style scoped>\n",
       "    .dataframe tbody tr th:only-of-type {\n",
       "        vertical-align: middle;\n",
       "    }\n",
       "\n",
       "    .dataframe tbody tr th {\n",
       "        vertical-align: top;\n",
       "    }\n",
       "\n",
       "    .dataframe thead th {\n",
       "        text-align: right;\n",
       "    }\n",
       "</style>\n",
       "<table border=\"1\" class=\"dataframe\">\n",
       "  <thead>\n",
       "    <tr style=\"text-align: right;\">\n",
       "      <th></th>\n",
       "      <th>CustAccountBalance</th>\n",
       "      <th>TransactionTime</th>\n",
       "      <th>TransactionAmount (INR)</th>\n",
       "    </tr>\n",
       "  </thead>\n",
       "  <tbody>\n",
       "    <tr>\n",
       "      <th>count</th>\n",
       "      <td>1,046,198</td>\n",
       "      <td>1,048,567</td>\n",
       "      <td>1,048,567</td>\n",
       "    </tr>\n",
       "    <tr>\n",
       "      <th>mean</th>\n",
       "      <td>115,404</td>\n",
       "      <td>157,088</td>\n",
       "      <td>1,574</td>\n",
       "    </tr>\n",
       "    <tr>\n",
       "      <th>std</th>\n",
       "      <td>846,485</td>\n",
       "      <td>51,262</td>\n",
       "      <td>6,575</td>\n",
       "    </tr>\n",
       "    <tr>\n",
       "      <th>min</th>\n",
       "      <td>0</td>\n",
       "      <td>0</td>\n",
       "      <td>0</td>\n",
       "    </tr>\n",
       "    <tr>\n",
       "      <th>25%</th>\n",
       "      <td>4,722</td>\n",
       "      <td>124,030</td>\n",
       "      <td>161</td>\n",
       "    </tr>\n",
       "    <tr>\n",
       "      <th>50%</th>\n",
       "      <td>16,792</td>\n",
       "      <td>164,226</td>\n",
       "      <td>459</td>\n",
       "    </tr>\n",
       "    <tr>\n",
       "      <th>75%</th>\n",
       "      <td>57,657</td>\n",
       "      <td>200,010</td>\n",
       "      <td>1,200</td>\n",
       "    </tr>\n",
       "    <tr>\n",
       "      <th>max</th>\n",
       "      <td>115,035,495</td>\n",
       "      <td>235,959</td>\n",
       "      <td>1,560,035</td>\n",
       "    </tr>\n",
       "  </tbody>\n",
       "</table>\n",
       "</div>"
      ],
      "text/plain": [
       "       CustAccountBalance  TransactionTime  TransactionAmount (INR)\n",
       "count           1,046,198        1,048,567                1,048,567\n",
       "mean              115,404          157,088                    1,574\n",
       "std               846,485           51,262                    6,575\n",
       "min                     0                0                        0\n",
       "25%                 4,722          124,030                      161\n",
       "50%                16,792          164,226                      459\n",
       "75%                57,657          200,010                    1,200\n",
       "max           115,035,495          235,959                1,560,035"
      ]
     },
     "execution_count": 15,
     "metadata": {},
     "output_type": "execute_result"
    }
   ],
   "source": [
    "pd.options.display.float_format ='{:,.0f}'.format\n",
    "data.describe()"
   ]
  },
  {
   "cell_type": "code",
   "execution_count": 16,
   "id": "e1af5c3f",
   "metadata": {},
   "outputs": [
    {
     "data": {
      "text/plain": [
       "TransactionID                 0\n",
       "CustomerID                    0\n",
       "CustomerDOB                3397\n",
       "CustGender                 1100\n",
       "CustLocation                151\n",
       "CustAccountBalance         2369\n",
       "TransactionDate               0\n",
       "TransactionTime               0\n",
       "TransactionAmount (INR)       0\n",
       "dtype: int64"
      ]
     },
     "execution_count": 16,
     "metadata": {},
     "output_type": "execute_result"
    }
   ],
   "source": [
    "data.isna().sum() #проверка на пустые значения"
   ]
  },
  {
   "cell_type": "code",
   "execution_count": 17,
   "id": "5d61a8f5",
   "metadata": {},
   "outputs": [],
   "source": [
    "#заменяеи пустые значения на средние\n",
    "data.CustGender.fillna(data.CustGender.mode().values[0],inplace=True)\n",
    "data.CustLocation.fillna(data.CustLocation.mode().values[0],inplace=True)\n",
    "data.CustAccountBalance.fillna(data.CustAccountBalance.median(),inplace=True)\n",
    "\n",
    "dy = str(int(pd.Series([int(i.split(\"/\")[-3]) for i in data.CustomerDOB.dropna().values]).mode().values[0]))\n",
    "mn = str(int(pd.Series([int(i.split(\"/\")[-2]) for i in data.CustomerDOB.dropna().values]).mode().values[0]))\n",
    "yr = str(int(pd.Series([int(i.split(\"/\")[-1]) for i in data.CustomerDOB.dropna().values]).mode().values[0]))\n",
    "data.CustomerDOB.fillna(dy + \"/\" + mn + \"/\" + yr,inplace=True)"
   ]
  },
  {
   "cell_type": "code",
   "execution_count": 18,
   "id": "badee8ed",
   "metadata": {},
   "outputs": [
    {
     "data": {
      "text/plain": [
       "TransactionID              0\n",
       "CustomerID                 0\n",
       "CustomerDOB                0\n",
       "CustGender                 0\n",
       "CustLocation               0\n",
       "CustAccountBalance         0\n",
       "TransactionDate            0\n",
       "TransactionTime            0\n",
       "TransactionAmount (INR)    0\n",
       "dtype: int64"
      ]
     },
     "execution_count": 18,
     "metadata": {},
     "output_type": "execute_result"
    }
   ],
   "source": [
    "data.isna().sum()"
   ]
  },
  {
   "cell_type": "code",
   "execution_count": 19,
   "id": "e0d4ca0f",
   "metadata": {},
   "outputs": [],
   "source": [
    "#дулаем время привычным форматом, округляя минуты\n",
    "hh = [int(datetime.fromtimestamp(i).strftime(\"%H\")) for i in data.TransactionTime.values]\n",
    "time = []\n",
    "for i in hh:\n",
    "    if i >=0 and i <= 12:\n",
    "        time.append(\"AM\")\n",
    "    elif i > 12:\n",
    "        time.append(\"PM\")\n",
    "data[\"TransactionHourOfDay\"] = hh\n",
    "data[\"TransactionTimeOfDay\"] = time"
   ]
  },
  {
   "cell_type": "code",
   "execution_count": 20,
   "id": "2272a0ba",
   "metadata": {},
   "outputs": [],
   "source": [
    "data[\"TransactionHourOfDay\"] = hh\n",
    "data[\"TransactionTimeOfDay\"] = time\n",
    "data.drop([\"TransactionTime\"],inplace=True,axis=1)"
   ]
  },
  {
   "cell_type": "code",
   "execution_count": 21,
   "id": "d2d10259",
   "metadata": {},
   "outputs": [
    {
     "data": {
      "text/html": [
       "<div>\n",
       "<style scoped>\n",
       "    .dataframe tbody tr th:only-of-type {\n",
       "        vertical-align: middle;\n",
       "    }\n",
       "\n",
       "    .dataframe tbody tr th {\n",
       "        vertical-align: top;\n",
       "    }\n",
       "\n",
       "    .dataframe thead th {\n",
       "        text-align: right;\n",
       "    }\n",
       "</style>\n",
       "<table border=\"1\" class=\"dataframe\">\n",
       "  <thead>\n",
       "    <tr style=\"text-align: right;\">\n",
       "      <th></th>\n",
       "      <th>TransactionID</th>\n",
       "      <th>CustomerID</th>\n",
       "      <th>CustomerDOB</th>\n",
       "      <th>CustGender</th>\n",
       "      <th>CustLocation</th>\n",
       "      <th>CustAccountBalance</th>\n",
       "      <th>TransactionDate</th>\n",
       "      <th>TransactionAmount (INR)</th>\n",
       "      <th>TransactionHourOfDay</th>\n",
       "      <th>TransactionTimeOfDay</th>\n",
       "    </tr>\n",
       "  </thead>\n",
       "  <tbody>\n",
       "    <tr>\n",
       "      <th>0</th>\n",
       "      <td>T1</td>\n",
       "      <td>C5841053</td>\n",
       "      <td>10/1/94</td>\n",
       "      <td>F</td>\n",
       "      <td>JAMSHEDPUR</td>\n",
       "      <td>17,819</td>\n",
       "      <td>2/8/16</td>\n",
       "      <td>25</td>\n",
       "      <td>18</td>\n",
       "      <td>PM</td>\n",
       "    </tr>\n",
       "    <tr>\n",
       "      <th>1</th>\n",
       "      <td>T2</td>\n",
       "      <td>C2142763</td>\n",
       "      <td>4/4/57</td>\n",
       "      <td>M</td>\n",
       "      <td>JHAJJAR</td>\n",
       "      <td>2,271</td>\n",
       "      <td>2/8/16</td>\n",
       "      <td>27,999</td>\n",
       "      <td>18</td>\n",
       "      <td>PM</td>\n",
       "    </tr>\n",
       "    <tr>\n",
       "      <th>2</th>\n",
       "      <td>T3</td>\n",
       "      <td>C4417068</td>\n",
       "      <td>26/11/96</td>\n",
       "      <td>F</td>\n",
       "      <td>MUMBAI</td>\n",
       "      <td>17,874</td>\n",
       "      <td>2/8/16</td>\n",
       "      <td>459</td>\n",
       "      <td>18</td>\n",
       "      <td>PM</td>\n",
       "    </tr>\n",
       "    <tr>\n",
       "      <th>3</th>\n",
       "      <td>T4</td>\n",
       "      <td>C5342380</td>\n",
       "      <td>14/9/73</td>\n",
       "      <td>F</td>\n",
       "      <td>MUMBAI</td>\n",
       "      <td>866,503</td>\n",
       "      <td>2/8/16</td>\n",
       "      <td>2,060</td>\n",
       "      <td>18</td>\n",
       "      <td>PM</td>\n",
       "    </tr>\n",
       "    <tr>\n",
       "      <th>4</th>\n",
       "      <td>T5</td>\n",
       "      <td>C9031234</td>\n",
       "      <td>24/3/88</td>\n",
       "      <td>F</td>\n",
       "      <td>NAVI MUMBAI</td>\n",
       "      <td>6,714</td>\n",
       "      <td>2/8/16</td>\n",
       "      <td>1,762</td>\n",
       "      <td>5</td>\n",
       "      <td>AM</td>\n",
       "    </tr>\n",
       "  </tbody>\n",
       "</table>\n",
       "</div>"
      ],
      "text/plain": [
       "  TransactionID CustomerID CustomerDOB CustGender CustLocation  \\\n",
       "0            T1   C5841053     10/1/94          F   JAMSHEDPUR   \n",
       "1            T2   C2142763      4/4/57          M      JHAJJAR   \n",
       "2            T3   C4417068    26/11/96          F       MUMBAI   \n",
       "3            T4   C5342380     14/9/73          F       MUMBAI   \n",
       "4            T5   C9031234     24/3/88          F  NAVI MUMBAI   \n",
       "\n",
       "   CustAccountBalance TransactionDate  TransactionAmount (INR)  \\\n",
       "0              17,819          2/8/16                       25   \n",
       "1               2,271          2/8/16                   27,999   \n",
       "2              17,874          2/8/16                      459   \n",
       "3             866,503          2/8/16                    2,060   \n",
       "4               6,714          2/8/16                    1,762   \n",
       "\n",
       "   TransactionHourOfDay TransactionTimeOfDay  \n",
       "0                    18                   PM  \n",
       "1                    18                   PM  \n",
       "2                    18                   PM  \n",
       "3                    18                   PM  \n",
       "4                     5                   AM  "
      ]
     },
     "execution_count": 21,
     "metadata": {},
     "output_type": "execute_result"
    }
   ],
   "source": [
    "data.head()"
   ]
  },
  {
   "cell_type": "code",
   "execution_count": 22,
   "id": "13d38c2b",
   "metadata": {},
   "outputs": [],
   "source": [
    "#узнаем возраст клиентов\n",
    "ages = []\n",
    "months = [int(i.split(\"/\")[-2]) for i in data.CustomerDOB.values]\n",
    "years = [int(i.split(\"/\")[-1]) for i in data.CustomerDOB.values]\n",
    "for i in years:\n",
    "    if(len(str(i))) == 4:\n",
    "        ages.append(2022 - i)\n",
    "    else:\n",
    "        ages.append(2022 - (1900 + i))\n",
    "data[\"CustomerAge\"] = ages"
   ]
  },
  {
   "cell_type": "code",
   "execution_count": 23,
   "id": "5f77ac53",
   "metadata": {},
   "outputs": [
    {
     "data": {
      "image/png": "[encoded data removed]",
      "text/plain": [
       "<Figure size 432x288 with 1 Axes>"
      ]
     },
     "metadata": {
      "needs_background": "light"
     },
     "output_type": "display_data"
    }
   ],
   "source": [
    "plt.hist(ages,color='green', edgecolor='black')\n",
    "plt.title(\"Ages distribution\")\n",
    "plt.xlabel(\"Age\")\n",
    "plt.ylabel(\"Count\")\n",
    "plt.show()"
   ]
  },
  {
   "cell_type": "code",
   "execution_count": 24,
   "id": "0e7dfbf6",
   "metadata": {},
   "outputs": [],
   "source": [
    "#уберем вбросы\n",
    "med = data['CustomerAge'].median()\n",
    "for i in range(len(ages)):\n",
    "    if ages[i] > 100:\n",
    "        ages[i] = med"
   ]
  },
  {
   "cell_type": "code",
   "execution_count": 25,
   "id": "caaae4f9",
   "metadata": {},
   "outputs": [
    {
     "data": {
      "image/png": "[encoded data removed]",
      "text/plain": [
       "<Figure size 432x288 with 1 Axes>"
      ]
     },
     "metadata": {
      "needs_background": "light"
     },
     "output_type": "display_data"
    }
   ],
   "source": [
    "plt.hist(ages,color='green', edgecolor='black')\n",
    "plt.title(\"Ages distribution\")\n",
    "plt.xlabel(\"Age\")\n",
    "plt.ylabel(\"Count\")\n",
    "plt.show()"
   ]
  },
  {
   "cell_type": "code",
   "execution_count": 26,
   "id": "7e7a40e0",
   "metadata": {},
   "outputs": [],
   "source": [
    "data[\"CustomerAge\"] = ages"
   ]
  },
  {
   "cell_type": "code",
   "execution_count": 27,
   "id": "5f2408fb",
   "metadata": {},
   "outputs": [
    {
     "data": {
      "text/html": [
       "<div>\n",
       "<style scoped>\n",
       "    .dataframe tbody tr th:only-of-type {\n",
       "        vertical-align: middle;\n",
       "    }\n",
       "\n",
       "    .dataframe tbody tr th {\n",
       "        vertical-align: top;\n",
       "    }\n",
       "\n",
       "    .dataframe thead th {\n",
       "        text-align: right;\n",
       "    }\n",
       "</style>\n",
       "<table border=\"1\" class=\"dataframe\">\n",
       "  <thead>\n",
       "    <tr style=\"text-align: right;\">\n",
       "      <th></th>\n",
       "      <th>TransactionID</th>\n",
       "      <th>CustomerID</th>\n",
       "      <th>CustomerDOB</th>\n",
       "      <th>CustGender</th>\n",
       "      <th>CustLocation</th>\n",
       "      <th>CustAccountBalance</th>\n",
       "      <th>TransactionDate</th>\n",
       "      <th>TransactionAmount (INR)</th>\n",
       "      <th>TransactionHourOfDay</th>\n",
       "      <th>TransactionTimeOfDay</th>\n",
       "      <th>CustomerAge</th>\n",
       "    </tr>\n",
       "  </thead>\n",
       "  <tbody>\n",
       "    <tr>\n",
       "      <th>0</th>\n",
       "      <td>T1</td>\n",
       "      <td>C5841053</td>\n",
       "      <td>10/1/94</td>\n",
       "      <td>F</td>\n",
       "      <td>JAMSHEDPUR</td>\n",
       "      <td>17,819</td>\n",
       "      <td>2/8/16</td>\n",
       "      <td>25</td>\n",
       "      <td>18</td>\n",
       "      <td>PM</td>\n",
       "      <td>28</td>\n",
       "    </tr>\n",
       "    <tr>\n",
       "      <th>1</th>\n",
       "      <td>T2</td>\n",
       "      <td>C2142763</td>\n",
       "      <td>4/4/57</td>\n",
       "      <td>M</td>\n",
       "      <td>JHAJJAR</td>\n",
       "      <td>2,271</td>\n",
       "      <td>2/8/16</td>\n",
       "      <td>27,999</td>\n",
       "      <td>18</td>\n",
       "      <td>PM</td>\n",
       "      <td>65</td>\n",
       "    </tr>\n",
       "    <tr>\n",
       "      <th>2</th>\n",
       "      <td>T3</td>\n",
       "      <td>C4417068</td>\n",
       "      <td>26/11/96</td>\n",
       "      <td>F</td>\n",
       "      <td>MUMBAI</td>\n",
       "      <td>17,874</td>\n",
       "      <td>2/8/16</td>\n",
       "      <td>459</td>\n",
       "      <td>18</td>\n",
       "      <td>PM</td>\n",
       "      <td>26</td>\n",
       "    </tr>\n",
       "    <tr>\n",
       "      <th>3</th>\n",
       "      <td>T4</td>\n",
       "      <td>C5342380</td>\n",
       "      <td>14/9/73</td>\n",
       "      <td>F</td>\n",
       "      <td>MUMBAI</td>\n",
       "      <td>866,503</td>\n",
       "      <td>2/8/16</td>\n",
       "      <td>2,060</td>\n",
       "      <td>18</td>\n",
       "      <td>PM</td>\n",
       "      <td>49</td>\n",
       "    </tr>\n",
       "    <tr>\n",
       "      <th>4</th>\n",
       "      <td>T5</td>\n",
       "      <td>C9031234</td>\n",
       "      <td>24/3/88</td>\n",
       "      <td>F</td>\n",
       "      <td>NAVI MUMBAI</td>\n",
       "      <td>6,714</td>\n",
       "      <td>2/8/16</td>\n",
       "      <td>1,762</td>\n",
       "      <td>5</td>\n",
       "      <td>AM</td>\n",
       "      <td>34</td>\n",
       "    </tr>\n",
       "  </tbody>\n",
       "</table>\n",
       "</div>"
      ],
      "text/plain": [
       "  TransactionID CustomerID CustomerDOB CustGender CustLocation  \\\n",
       "0            T1   C5841053     10/1/94          F   JAMSHEDPUR   \n",
       "1            T2   C2142763      4/4/57          M      JHAJJAR   \n",
       "2            T3   C4417068    26/11/96          F       MUMBAI   \n",
       "3            T4   C5342380     14/9/73          F       MUMBAI   \n",
       "4            T5   C9031234     24/3/88          F  NAVI MUMBAI   \n",
       "\n",
       "   CustAccountBalance TransactionDate  TransactionAmount (INR)  \\\n",
       "0              17,819          2/8/16                       25   \n",
       "1               2,271          2/8/16                   27,999   \n",
       "2              17,874          2/8/16                      459   \n",
       "3             866,503          2/8/16                    2,060   \n",
       "4               6,714          2/8/16                    1,762   \n",
       "\n",
       "   TransactionHourOfDay TransactionTimeOfDay  CustomerAge  \n",
       "0                    18                   PM           28  \n",
       "1                    18                   PM           65  \n",
       "2                    18                   PM           26  \n",
       "3                    18                   PM           49  \n",
       "4                     5                   AM           34  "
      ]
     },
     "execution_count": 27,
     "metadata": {},
     "output_type": "execute_result"
    }
   ],
   "source": [
    "data.head()"
   ]
  },
  {
   "cell_type": "code",
   "execution_count": 28,
   "id": "9d77f079",
   "metadata": {},
   "outputs": [
    {
     "data": {
      "text/plain": [
       "<AxesSubplot:xlabel='TransactionHourOfDay', ylabel='Density'>"
      ]
     },
     "execution_count": 28,
     "metadata": {},
     "output_type": "execute_result"
    },
    {
     "data": {
      "image/png": "[encoded data removed]",
      "text/plain": [
       "<Figure size 432x288 with 1 Axes>"
      ]
     },
     "metadata": {
      "needs_background": "light"
     },
     "output_type": "display_data"
    }
   ],
   "source": [
    "sns.distplot(data['TransactionHourOfDay'])"
   ]
  },
  {
   "cell_type": "code",
   "execution_count": 29,
   "id": "bf0d6906",
   "metadata": {},
   "outputs": [
    {
     "data": {
      "text/plain": [
       "<AxesSubplot:xlabel='TransactionAmount (INR)', ylabel='Density'>"
      ]
     },
     "execution_count": 29,
     "metadata": {},
     "output_type": "execute_result"
    },
    {
     "data": {
      "image/png": "[encoded data removed]",
      "text/plain": [
       "<Figure size 432x288 with 1 Axes>"
      ]
     },
     "metadata": {
      "needs_background": "light"
     },
     "output_type": "display_data"
    }
   ],
   "source": [
    "sns.distplot(data['TransactionAmount (INR)'],bins=1, kde=True)"
   ]
  },
  {
   "cell_type": "code",
   "execution_count": 30,
   "id": "e311f69f",
   "metadata": {},
   "outputs": [
    {
     "data": {
      "text/plain": [
       "<AxesSubplot:xlabel='CustAccountBalance', ylabel='Density'>"
      ]
     },
     "execution_count": 30,
     "metadata": {},
     "output_type": "execute_result"
    },
    {
     "data": {
      "image/png": "[encoded data removed]",
      "text/plain": [
       "<Figure size 432x288 with 1 Axes>"
      ]
     },
     "metadata": {
      "needs_background": "light"
     },
     "output_type": "display_data"
    }
   ],
   "source": [
    "sns.distplot(data['CustAccountBalance'],bins=1, kde=True)"
   ]
  },
  {
   "cell_type": "code",
   "execution_count": 31,
   "id": "e61f2e75",
   "metadata": {},
   "outputs": [
    {
     "data": {
      "text/plain": [
       "<AxesSubplot:ylabel='TransactionAmount (INR)'>"
      ]
     },
     "execution_count": 31,
     "metadata": {},
     "output_type": "execute_result"
    },
    {
     "data": {
      "image/png": "[encoded data removed]",
      "text/plain": [
       "<Figure size 432x288 with 1 Axes>"
      ]
     },
     "metadata": {},
     "output_type": "display_data"
    }
   ],
   "source": [
    "data.groupby(data['CustGender']).sum().plot(kind='pie', y='TransactionAmount (INR)')"
   ]
  },
  {
   "cell_type": "code",
   "execution_count": 32,
   "id": "f9c5232d",
   "metadata": {},
   "outputs": [],
   "source": [
    "data = data.loc[data['CustGender'] != 'T']"
   ]
  },
  {
   "cell_type": "code",
   "execution_count": 33,
   "id": "d62b64f9",
   "metadata": {},
   "outputs": [
    {
     "data": {
      "text/plain": [
       "<AxesSubplot:ylabel='TransactionAmount (INR)'>"
      ]
     },
     "execution_count": 33,
     "metadata": {},
     "output_type": "execute_result"
    },
    {
     "data": {
      "image/png": "[encoded data removed]",
      "text/plain": [
       "<Figure size 432x288 with 1 Axes>"
      ]
     },
     "metadata": {},
     "output_type": "display_data"
    }
   ],
   "source": [
    "data.groupby(data['CustGender']).sum().plot(kind='pie', y='TransactionAmount (INR)')"
   ]
  },
  {
   "cell_type": "code",
   "execution_count": 34,
   "id": "f5bd0658",
   "metadata": {},
   "outputs": [
    {
     "data": {
      "text/html": [
       "<div>\n",
       "<style scoped>\n",
       "    .dataframe tbody tr th:only-of-type {\n",
       "        vertical-align: middle;\n",
       "    }\n",
       "\n",
       "    .dataframe tbody tr th {\n",
       "        vertical-align: top;\n",
       "    }\n",
       "\n",
       "    .dataframe thead th {\n",
       "        text-align: right;\n",
       "    }\n",
       "</style>\n",
       "<table border=\"1\" class=\"dataframe\">\n",
       "  <thead>\n",
       "    <tr style=\"text-align: right;\">\n",
       "      <th></th>\n",
       "      <th>TransactionID</th>\n",
       "      <th>CustomerID</th>\n",
       "      <th>CustomerDOB</th>\n",
       "      <th>CustGender</th>\n",
       "      <th>CustLocation</th>\n",
       "      <th>CustAccountBalance</th>\n",
       "      <th>TransactionDate</th>\n",
       "      <th>TransactionAmount (INR)</th>\n",
       "      <th>TransactionHourOfDay</th>\n",
       "      <th>TransactionTimeOfDay</th>\n",
       "      <th>CustomerAge</th>\n",
       "      <th>TransactionMonth</th>\n",
       "      <th>TransactionDay</th>\n",
       "    </tr>\n",
       "  </thead>\n",
       "  <tbody>\n",
       "    <tr>\n",
       "      <th>0</th>\n",
       "      <td>T1</td>\n",
       "      <td>C5841053</td>\n",
       "      <td>10/1/94</td>\n",
       "      <td>F</td>\n",
       "      <td>JAMSHEDPUR</td>\n",
       "      <td>17,819</td>\n",
       "      <td>2016-02-08</td>\n",
       "      <td>25</td>\n",
       "      <td>18</td>\n",
       "      <td>PM</td>\n",
       "      <td>28</td>\n",
       "      <td>2</td>\n",
       "      <td>0</td>\n",
       "    </tr>\n",
       "    <tr>\n",
       "      <th>1</th>\n",
       "      <td>T2</td>\n",
       "      <td>C2142763</td>\n",
       "      <td>4/4/57</td>\n",
       "      <td>M</td>\n",
       "      <td>JHAJJAR</td>\n",
       "      <td>2,271</td>\n",
       "      <td>2016-02-08</td>\n",
       "      <td>27,999</td>\n",
       "      <td>18</td>\n",
       "      <td>PM</td>\n",
       "      <td>65</td>\n",
       "      <td>2</td>\n",
       "      <td>0</td>\n",
       "    </tr>\n",
       "    <tr>\n",
       "      <th>2</th>\n",
       "      <td>T3</td>\n",
       "      <td>C4417068</td>\n",
       "      <td>26/11/96</td>\n",
       "      <td>F</td>\n",
       "      <td>MUMBAI</td>\n",
       "      <td>17,874</td>\n",
       "      <td>2016-02-08</td>\n",
       "      <td>459</td>\n",
       "      <td>18</td>\n",
       "      <td>PM</td>\n",
       "      <td>26</td>\n",
       "      <td>2</td>\n",
       "      <td>0</td>\n",
       "    </tr>\n",
       "    <tr>\n",
       "      <th>3</th>\n",
       "      <td>T4</td>\n",
       "      <td>C5342380</td>\n",
       "      <td>14/9/73</td>\n",
       "      <td>F</td>\n",
       "      <td>MUMBAI</td>\n",
       "      <td>866,503</td>\n",
       "      <td>2016-02-08</td>\n",
       "      <td>2,060</td>\n",
       "      <td>18</td>\n",
       "      <td>PM</td>\n",
       "      <td>49</td>\n",
       "      <td>2</td>\n",
       "      <td>0</td>\n",
       "    </tr>\n",
       "    <tr>\n",
       "      <th>4</th>\n",
       "      <td>T5</td>\n",
       "      <td>C9031234</td>\n",
       "      <td>24/3/88</td>\n",
       "      <td>F</td>\n",
       "      <td>NAVI MUMBAI</td>\n",
       "      <td>6,714</td>\n",
       "      <td>2016-02-08</td>\n",
       "      <td>1,762</td>\n",
       "      <td>5</td>\n",
       "      <td>AM</td>\n",
       "      <td>34</td>\n",
       "      <td>2</td>\n",
       "      <td>0</td>\n",
       "    </tr>\n",
       "  </tbody>\n",
       "</table>\n",
       "</div>"
      ],
      "text/plain": [
       "  TransactionID CustomerID CustomerDOB CustGender CustLocation  \\\n",
       "0            T1   C5841053     10/1/94          F   JAMSHEDPUR   \n",
       "1            T2   C2142763      4/4/57          M      JHAJJAR   \n",
       "2            T3   C4417068    26/11/96          F       MUMBAI   \n",
       "3            T4   C5342380     14/9/73          F       MUMBAI   \n",
       "4            T5   C9031234     24/3/88          F  NAVI MUMBAI   \n",
       "\n",
       "   CustAccountBalance TransactionDate  TransactionAmount (INR)  \\\n",
       "0              17,819      2016-02-08                       25   \n",
       "1               2,271      2016-02-08                   27,999   \n",
       "2              17,874      2016-02-08                      459   \n",
       "3             866,503      2016-02-08                    2,060   \n",
       "4               6,714      2016-02-08                    1,762   \n",
       "\n",
       "   TransactionHourOfDay TransactionTimeOfDay  CustomerAge  TransactionMonth  \\\n",
       "0                    18                   PM           28                 2   \n",
       "1                    18                   PM           65                 2   \n",
       "2                    18                   PM           26                 2   \n",
       "3                    18                   PM           49                 2   \n",
       "4                     5                   AM           34                 2   \n",
       "\n",
       "   TransactionDay  \n",
       "0               0  \n",
       "1               0  \n",
       "2               0  \n",
       "3               0  \n",
       "4               0  "
      ]
     },
     "execution_count": 34,
     "metadata": {},
     "output_type": "execute_result"
    }
   ],
   "source": [
    "data['TransactionDate'] = pd.to_datetime(data['TransactionDate'])\n",
    "\n",
    "data['TransactionMonth'] = data['TransactionDate'].dt.month\n",
    "data['TransactionDay'] = data['TransactionDate'].dt.dayofweek\n",
    "data.head()"
   ]
  },
  {
   "cell_type": "code",
   "execution_count": 35,
   "id": "1270b8bf",
   "metadata": {},
   "outputs": [
    {
     "data": {
      "image/png": "[encoded data removed]",
      "text/plain": [
       "<Figure size 432x288 with 1 Axes>"
      ]
     },
     "metadata": {
      "needs_background": "light"
     },
     "output_type": "display_data"
    }
   ],
   "source": [
    "plt.hist(data['TransactionMonth'],color='green', edgecolor='black',bins = 10, linewidth=2)\n",
    "plt.title('Transactions in each month')\n",
    "plt.show()"
   ]
  },
  {
   "cell_type": "code",
   "execution_count": 36,
   "id": "5f5b24a4",
   "metadata": {},
   "outputs": [
    {
     "data": {
      "image/png": "[encoded data removed]",
      "text/plain": [
       "<Figure size 432x288 with 1 Axes>"
      ]
     },
     "metadata": {
      "needs_background": "light"
     },
     "output_type": "display_data"
    }
   ],
   "source": [
    "plt.hist(data['TransactionDay'],color='green', edgecolor='black',bins = 10, linewidth=2)\n",
    "plt.title('Transactions in each day')\n",
    "plt.show()"
   ]
  },
  {
   "cell_type": "code",
   "execution_count": 37,
   "id": "4cc54ab2",
   "metadata": {},
   "outputs": [],
   "source": [
    "#encoded = pd.get_dummies(data.CustLocation)"
   ]
  },
  {
   "cell_type": "code",
   "execution_count": 38,
   "id": "13166787",
   "metadata": {},
   "outputs": [],
   "source": [
    "variables = ['CustAccountBalance', 'TransactionAmount (INR)', 'CustomerAge','TransactionMonth']"
   ]
  },
  {
   "cell_type": "code",
   "execution_count": 39,
   "id": "4123ce87",
   "metadata": {},
   "outputs": [
    {
     "data": {
      "text/plain": [
       "<AxesSubplot:>"
      ]
     },
     "execution_count": 39,
     "metadata": {},
     "output_type": "execute_result"
    },
    {
     "data": {
      "image/png": "[encoded data removed]",
      "text/plain": [
       "<Figure size 720x576 with 2 Axes>"
      ]
     },
     "metadata": {
      "needs_background": "light"
     },
     "output_type": "display_data"
    }
   ],
   "source": [
    "plt.figure(figsize=(10, 8))\n",
    "sns.heatmap(data[variables].corr(), annot=True, cmap='magma')"
   ]
  },
  {
   "cell_type": "markdown",
   "id": "fff0532c",
   "metadata": {},
   "source": [
    "Особой корреляции между числовыми данными нет, проведем кластеризацию"
   ]
  },
  {
   "cell_type": "code",
   "execution_count": 40,
   "id": "be99866c",
   "metadata": {},
   "outputs": [],
   "source": [
    "scaler = StandardScaler()\n",
    "features = scaler.fit_transform(data[variables])"
   ]
  },
  {
   "cell_type": "code",
   "execution_count": 41,
   "id": "5713b5d6",
   "metadata": {},
   "outputs": [],
   "source": [
    "sse = []\n",
    "\n",
    "for k in range(1, 15):\n",
    "    kmeans = KMeans(n_clusters=k)\n",
    "    kmeans.fit(features)\n",
    "    sse.append(kmeans.inertia_)"
   ]
  },
  {
   "cell_type": "code",
   "execution_count": 42,
   "id": "e3288b4d",
   "metadata": {},
   "outputs": [
    {
     "data": {
      "image/png": "[encoded data removed]",
      "text/plain": [
       "<Figure size 432x288 with 1 Axes>"
      ]
     },
     "metadata": {
      "needs_background": "light"
     },
     "output_type": "display_data"
    }
   ],
   "source": [
    "plt.plot(range(1, 15), sse)\n",
    "plt.xticks(range(1, 15))\n",
    "plt.xlabel('Number of Clusters')\n",
    "plt.ylabel('SSE')\n",
    "plt.show()"
   ]
  },
  {
   "cell_type": "markdown",
   "id": "964c2c47",
   "metadata": {},
   "source": [
    "По графику видно, что выборку оптимально можно разбить на 5 кластеров"
   ]
  },
  {
   "cell_type": "code",
   "execution_count": 43,
   "id": "c7aef393",
   "metadata": {},
   "outputs": [],
   "source": [
    "kmeans = KMeans(n_clusters=5)\n",
    "kmeans.fit(features)\n",
    "sse.append(kmeans.inertia_)"
   ]
  },
  {
   "cell_type": "code",
   "execution_count": 44,
   "id": "854d5bf2",
   "metadata": {},
   "outputs": [],
   "source": [
    "data['cluster'] = kmeans.labels_"
   ]
  },
  {
   "cell_type": "code",
   "execution_count": 45,
   "id": "b99ac579",
   "metadata": {},
   "outputs": [
    {
     "data": {
      "text/html": [
       "<div>\n",
       "<style scoped>\n",
       "    .dataframe tbody tr th:only-of-type {\n",
       "        vertical-align: middle;\n",
       "    }\n",
       "\n",
       "    .dataframe tbody tr th {\n",
       "        vertical-align: top;\n",
       "    }\n",
       "\n",
       "    .dataframe thead tr th {\n",
       "        text-align: left;\n",
       "    }\n",
       "\n",
       "    .dataframe thead tr:last-of-type th {\n",
       "        text-align: right;\n",
       "    }\n",
       "</style>\n",
       "<table border=\"1\" class=\"dataframe\">\n",
       "  <thead>\n",
       "    <tr>\n",
       "      <th></th>\n",
       "      <th colspan=\"2\" halign=\"left\">CustAccountBalance</th>\n",
       "      <th colspan=\"2\" halign=\"left\">TransactionAmount (INR)</th>\n",
       "      <th colspan=\"2\" halign=\"left\">CustomerAge</th>\n",
       "      <th colspan=\"2\" halign=\"left\">TransactionMonth</th>\n",
       "    </tr>\n",
       "    <tr>\n",
       "      <th></th>\n",
       "      <th>mean</th>\n",
       "      <th>median</th>\n",
       "      <th>mean</th>\n",
       "      <th>median</th>\n",
       "      <th>mean</th>\n",
       "      <th>median</th>\n",
       "      <th>mean</th>\n",
       "      <th>median</th>\n",
       "    </tr>\n",
       "    <tr>\n",
       "      <th>cluster</th>\n",
       "      <th></th>\n",
       "      <th></th>\n",
       "      <th></th>\n",
       "      <th></th>\n",
       "      <th></th>\n",
       "      <th></th>\n",
       "      <th></th>\n",
       "      <th></th>\n",
       "    </tr>\n",
       "  </thead>\n",
       "  <tbody>\n",
       "    <tr>\n",
       "      <th>0</th>\n",
       "      <td>71,757</td>\n",
       "      <td>14,621</td>\n",
       "      <td>1,117</td>\n",
       "      <td>389</td>\n",
       "      <td>34</td>\n",
       "      <td>34</td>\n",
       "      <td>9</td>\n",
       "      <td>8</td>\n",
       "    </tr>\n",
       "    <tr>\n",
       "      <th>1</th>\n",
       "      <td>296,993</td>\n",
       "      <td>40,773</td>\n",
       "      <td>2,152</td>\n",
       "      <td>850</td>\n",
       "      <td>53</td>\n",
       "      <td>50</td>\n",
       "      <td>8</td>\n",
       "      <td>8</td>\n",
       "    </tr>\n",
       "    <tr>\n",
       "      <th>2</th>\n",
       "      <td>48,200,542</td>\n",
       "      <td>37,254,857</td>\n",
       "      <td>12,386</td>\n",
       "      <td>2,329</td>\n",
       "      <td>63</td>\n",
       "      <td>67</td>\n",
       "      <td>7</td>\n",
       "      <td>8</td>\n",
       "    </tr>\n",
       "    <tr>\n",
       "      <th>3</th>\n",
       "      <td>79,733</td>\n",
       "      <td>14,967</td>\n",
       "      <td>1,235</td>\n",
       "      <td>447</td>\n",
       "      <td>35</td>\n",
       "      <td>35</td>\n",
       "      <td>3</td>\n",
       "      <td>3</td>\n",
       "    </tr>\n",
       "    <tr>\n",
       "      <th>4</th>\n",
       "      <td>487,652</td>\n",
       "      <td>120,000</td>\n",
       "      <td>73,342</td>\n",
       "      <td>56,509</td>\n",
       "      <td>42</td>\n",
       "      <td>37</td>\n",
       "      <td>7</td>\n",
       "      <td>8</td>\n",
       "    </tr>\n",
       "  </tbody>\n",
       "</table>\n",
       "</div>"
      ],
      "text/plain": [
       "        CustAccountBalance            TransactionAmount (INR)         \\\n",
       "                      mean     median                    mean median   \n",
       "cluster                                                                \n",
       "0                   71,757     14,621                   1,117    389   \n",
       "1                  296,993     40,773                   2,152    850   \n",
       "2               48,200,542 37,254,857                  12,386  2,329   \n",
       "3                   79,733     14,967                   1,235    447   \n",
       "4                  487,652    120,000                  73,342 56,509   \n",
       "\n",
       "        CustomerAge        TransactionMonth         \n",
       "               mean median             mean median  \n",
       "cluster                                             \n",
       "0                34     34                9      8  \n",
       "1                53     50                8      8  \n",
       "2                63     67                7      8  \n",
       "3                35     35                3      3  \n",
       "4                42     37                7      8  "
      ]
     },
     "execution_count": 45,
     "metadata": {},
     "output_type": "execute_result"
    }
   ],
   "source": [
    "data.groupby('cluster').agg({v: ['mean', 'median'] for v in variables})"
   ]
  },
  {
   "cell_type": "markdown",
   "id": "a0468531",
   "metadata": {},
   "source": [
    "Итого: \n",
    "\n",
    "0 и 3 класс отличаются лишь активностью по месяцам - это относительно молодые люди, с небольшим количествов денег на счету\n",
    "и, соответсвенно, с небольшими транзакциями. \n",
    "\n",
    "1 кластер усредненный по возрасту, сумме на счету и сумме транзакции.\n",
    "\n",
    "4 кластер отличается повышенным балансом на счету, достаточно молодым возрастом как у 0 и 3 кластера и самое главное огромными\n",
    "суммами транзакции, самыми большими в выборке\n",
    "\n",
    "2 кластер это богатые люди, с огромными (почти в 100 раз больше чем у 3го) суммами на счету, но не такими большими транзакциями как у 3 кластера. Ещё заметно, что средний возраст в этом кластере 60+\n",
    "\n",
    "На основе этих данных можно произвести сегментацию."
   ]
  },
  {
   "cell_type": "code",
   "execution_count": 141,
   "id": "fa9c3262",
   "metadata": {},
   "outputs": [
    {
     "data": {
      "text/html": [
       "<div>\n",
       "<style scoped>\n",
       "    .dataframe tbody tr th:only-of-type {\n",
       "        vertical-align: middle;\n",
       "    }\n",
       "\n",
       "    .dataframe tbody tr th {\n",
       "        vertical-align: top;\n",
       "    }\n",
       "\n",
       "    .dataframe thead th {\n",
       "        text-align: right;\n",
       "    }\n",
       "</style>\n",
       "<table border=\"1\" class=\"dataframe\">\n",
       "  <thead>\n",
       "    <tr style=\"text-align: right;\">\n",
       "      <th></th>\n",
       "      <th>TransactionID</th>\n",
       "      <th>CustomerID</th>\n",
       "      <th>CustomerDOB</th>\n",
       "      <th>CustGender</th>\n",
       "      <th>CustLocation</th>\n",
       "      <th>CustAccountBalance</th>\n",
       "      <th>TransactionDate</th>\n",
       "      <th>TransactionAmount (INR)</th>\n",
       "      <th>TransactionHourOfDay</th>\n",
       "      <th>TransactionTimeOfDay</th>\n",
       "      <th>CustomerAge</th>\n",
       "      <th>TransactionMonth</th>\n",
       "      <th>TransactionDay</th>\n",
       "      <th>cluster</th>\n",
       "    </tr>\n",
       "  </thead>\n",
       "  <tbody>\n",
       "    <tr>\n",
       "      <th>0</th>\n",
       "      <td>T1</td>\n",
       "      <td>C5841053</td>\n",
       "      <td>10/1/94</td>\n",
       "      <td>F</td>\n",
       "      <td>JAMSHEDPUR</td>\n",
       "      <td>17,819</td>\n",
       "      <td>2016-02-08</td>\n",
       "      <td>25</td>\n",
       "      <td>18</td>\n",
       "      <td>PM</td>\n",
       "      <td>28</td>\n",
       "      <td>2</td>\n",
       "      <td>0</td>\n",
       "      <td>3</td>\n",
       "    </tr>\n",
       "    <tr>\n",
       "      <th>1</th>\n",
       "      <td>T2</td>\n",
       "      <td>C2142763</td>\n",
       "      <td>4/4/57</td>\n",
       "      <td>M</td>\n",
       "      <td>JHAJJAR</td>\n",
       "      <td>2,271</td>\n",
       "      <td>2016-02-08</td>\n",
       "      <td>27,999</td>\n",
       "      <td>18</td>\n",
       "      <td>PM</td>\n",
       "      <td>65</td>\n",
       "      <td>2</td>\n",
       "      <td>0</td>\n",
       "      <td>1</td>\n",
       "    </tr>\n",
       "    <tr>\n",
       "      <th>2</th>\n",
       "      <td>T3</td>\n",
       "      <td>C4417068</td>\n",
       "      <td>26/11/96</td>\n",
       "      <td>F</td>\n",
       "      <td>MUMBAI</td>\n",
       "      <td>17,874</td>\n",
       "      <td>2016-02-08</td>\n",
       "      <td>459</td>\n",
       "      <td>18</td>\n",
       "      <td>PM</td>\n",
       "      <td>26</td>\n",
       "      <td>2</td>\n",
       "      <td>0</td>\n",
       "      <td>3</td>\n",
       "    </tr>\n",
       "    <tr>\n",
       "      <th>3</th>\n",
       "      <td>T4</td>\n",
       "      <td>C5342380</td>\n",
       "      <td>14/9/73</td>\n",
       "      <td>F</td>\n",
       "      <td>MUMBAI</td>\n",
       "      <td>866,503</td>\n",
       "      <td>2016-02-08</td>\n",
       "      <td>2,060</td>\n",
       "      <td>18</td>\n",
       "      <td>PM</td>\n",
       "      <td>49</td>\n",
       "      <td>2</td>\n",
       "      <td>0</td>\n",
       "      <td>3</td>\n",
       "    </tr>\n",
       "    <tr>\n",
       "      <th>4</th>\n",
       "      <td>T5</td>\n",
       "      <td>C9031234</td>\n",
       "      <td>24/3/88</td>\n",
       "      <td>F</td>\n",
       "      <td>NAVI MUMBAI</td>\n",
       "      <td>6,714</td>\n",
       "      <td>2016-02-08</td>\n",
       "      <td>1,762</td>\n",
       "      <td>5</td>\n",
       "      <td>AM</td>\n",
       "      <td>34</td>\n",
       "      <td>2</td>\n",
       "      <td>0</td>\n",
       "      <td>3</td>\n",
       "    </tr>\n",
       "    <tr>\n",
       "      <th>...</th>\n",
       "      <td>...</td>\n",
       "      <td>...</td>\n",
       "      <td>...</td>\n",
       "      <td>...</td>\n",
       "      <td>...</td>\n",
       "      <td>...</td>\n",
       "      <td>...</td>\n",
       "      <td>...</td>\n",
       "      <td>...</td>\n",
       "      <td>...</td>\n",
       "      <td>...</td>\n",
       "      <td>...</td>\n",
       "      <td>...</td>\n",
       "      <td>...</td>\n",
       "    </tr>\n",
       "    <tr>\n",
       "      <th>1048562</th>\n",
       "      <td>T1048563</td>\n",
       "      <td>C8020229</td>\n",
       "      <td>8/4/90</td>\n",
       "      <td>M</td>\n",
       "      <td>NEW DELHI</td>\n",
       "      <td>7,635</td>\n",
       "      <td>2016-09-18</td>\n",
       "      <td>799</td>\n",
       "      <td>6</td>\n",
       "      <td>AM</td>\n",
       "      <td>32</td>\n",
       "      <td>9</td>\n",
       "      <td>6</td>\n",
       "      <td>0</td>\n",
       "    </tr>\n",
       "    <tr>\n",
       "      <th>1048563</th>\n",
       "      <td>T1048564</td>\n",
       "      <td>C6459278</td>\n",
       "      <td>20/2/92</td>\n",
       "      <td>M</td>\n",
       "      <td>NASHIK</td>\n",
       "      <td>27,311</td>\n",
       "      <td>2016-09-18</td>\n",
       "      <td>460</td>\n",
       "      <td>6</td>\n",
       "      <td>AM</td>\n",
       "      <td>30</td>\n",
       "      <td>9</td>\n",
       "      <td>6</td>\n",
       "      <td>0</td>\n",
       "    </tr>\n",
       "    <tr>\n",
       "      <th>1048564</th>\n",
       "      <td>T1048565</td>\n",
       "      <td>C6412354</td>\n",
       "      <td>18/5/89</td>\n",
       "      <td>M</td>\n",
       "      <td>HYDERABAD</td>\n",
       "      <td>221,757</td>\n",
       "      <td>2016-09-18</td>\n",
       "      <td>770</td>\n",
       "      <td>5</td>\n",
       "      <td>AM</td>\n",
       "      <td>33</td>\n",
       "      <td>9</td>\n",
       "      <td>6</td>\n",
       "      <td>0</td>\n",
       "    </tr>\n",
       "    <tr>\n",
       "      <th>1048565</th>\n",
       "      <td>T1048566</td>\n",
       "      <td>C6420483</td>\n",
       "      <td>30/8/78</td>\n",
       "      <td>M</td>\n",
       "      <td>VISAKHAPATNAM</td>\n",
       "      <td>10,118</td>\n",
       "      <td>2016-09-18</td>\n",
       "      <td>1,000</td>\n",
       "      <td>6</td>\n",
       "      <td>AM</td>\n",
       "      <td>44</td>\n",
       "      <td>9</td>\n",
       "      <td>6</td>\n",
       "      <td>1</td>\n",
       "    </tr>\n",
       "    <tr>\n",
       "      <th>1048566</th>\n",
       "      <td>T1048567</td>\n",
       "      <td>C8337524</td>\n",
       "      <td>5/3/84</td>\n",
       "      <td>M</td>\n",
       "      <td>PUNE</td>\n",
       "      <td>75,734</td>\n",
       "      <td>2016-09-18</td>\n",
       "      <td>1,166</td>\n",
       "      <td>5</td>\n",
       "      <td>AM</td>\n",
       "      <td>38</td>\n",
       "      <td>9</td>\n",
       "      <td>6</td>\n",
       "      <td>0</td>\n",
       "    </tr>\n",
       "  </tbody>\n",
       "</table>\n",
       "<p>1048566 rows × 14 columns</p>\n",
       "</div>"
      ],
      "text/plain": [
       "        TransactionID CustomerID CustomerDOB CustGender   CustLocation  \\\n",
       "0                  T1   C5841053     10/1/94          F     JAMSHEDPUR   \n",
       "1                  T2   C2142763      4/4/57          M        JHAJJAR   \n",
       "2                  T3   C4417068    26/11/96          F         MUMBAI   \n",
       "3                  T4   C5342380     14/9/73          F         MUMBAI   \n",
       "4                  T5   C9031234     24/3/88          F    NAVI MUMBAI   \n",
       "...               ...        ...         ...        ...            ...   \n",
       "1048562      T1048563   C8020229      8/4/90          M      NEW DELHI   \n",
       "1048563      T1048564   C6459278     20/2/92          M         NASHIK   \n",
       "1048564      T1048565   C6412354     18/5/89          M      HYDERABAD   \n",
       "1048565      T1048566   C6420483     30/8/78          M  VISAKHAPATNAM   \n",
       "1048566      T1048567   C8337524      5/3/84          M           PUNE   \n",
       "\n",
       "         CustAccountBalance TransactionDate  TransactionAmount (INR)  \\\n",
       "0                    17,819      2016-02-08                       25   \n",
       "1                     2,271      2016-02-08                   27,999   \n",
       "2                    17,874      2016-02-08                      459   \n",
       "3                   866,503      2016-02-08                    2,060   \n",
       "4                     6,714      2016-02-08                    1,762   \n",
       "...                     ...             ...                      ...   \n",
       "1048562               7,635      2016-09-18                      799   \n",
       "1048563              27,311      2016-09-18                      460   \n",
       "1048564             221,757      2016-09-18                      770   \n",
       "1048565              10,118      2016-09-18                    1,000   \n",
       "1048566              75,734      2016-09-18                    1,166   \n",
       "\n",
       "         TransactionHourOfDay TransactionTimeOfDay  CustomerAge  \\\n",
       "0                          18                   PM           28   \n",
       "1                          18                   PM           65   \n",
       "2                          18                   PM           26   \n",
       "3                          18                   PM           49   \n",
       "4                           5                   AM           34   \n",
       "...                       ...                  ...          ...   \n",
       "1048562                     6                   AM           32   \n",
       "1048563                     6                   AM           30   \n",
       "1048564                     5                   AM           33   \n",
       "1048565                     6                   AM           44   \n",
       "1048566                     5                   AM           38   \n",
       "\n",
       "         TransactionMonth  TransactionDay  cluster  \n",
       "0                       2               0        3  \n",
       "1                       2               0        1  \n",
       "2                       2               0        3  \n",
       "3                       2               0        3  \n",
       "4                       2               0        3  \n",
       "...                   ...             ...      ...  \n",
       "1048562                 9               6        0  \n",
       "1048563                 9               6        0  \n",
       "1048564                 9               6        0  \n",
       "1048565                 9               6        1  \n",
       "1048566                 9               6        0  \n",
       "\n",
       "[1048566 rows x 14 columns]"
      ]
     },
     "execution_count": 141,
     "metadata": {},
     "output_type": "execute_result"
    }
   ],
   "source": [
    "data"
   ]
  },
  {
   "cell_type": "code",
   "execution_count": 294,
   "id": "2c6a78dc",
   "metadata": {},
   "outputs": [],
   "source": [
    "#data_cluster = data.loc[(data.cluster == 3)  | (data.cluster == 0)]\n",
    "#data_cluster = data.loc[(data.cluster == 4)]\n",
    "#data_cluster = data.loc[(data.cluster == 2)]\n",
    "data_cluster = data"
   ]
  },
  {
   "cell_type": "code",
   "execution_count": 295,
   "id": "3d2aa25c",
   "metadata": {},
   "outputs": [
    {
     "data": {
      "text/html": [
       "<div>\n",
       "<style scoped>\n",
       "    .dataframe tbody tr th:only-of-type {\n",
       "        vertical-align: middle;\n",
       "    }\n",
       "\n",
       "    .dataframe tbody tr th {\n",
       "        vertical-align: top;\n",
       "    }\n",
       "\n",
       "    .dataframe thead th {\n",
       "        text-align: right;\n",
       "    }\n",
       "</style>\n",
       "<table border=\"1\" class=\"dataframe\">\n",
       "  <thead>\n",
       "    <tr style=\"text-align: right;\">\n",
       "      <th></th>\n",
       "      <th>TransactionID</th>\n",
       "      <th>CustomerID</th>\n",
       "      <th>CustomerDOB</th>\n",
       "      <th>CustGender</th>\n",
       "      <th>CustLocation</th>\n",
       "      <th>CustAccountBalance</th>\n",
       "      <th>TransactionDate</th>\n",
       "      <th>TransactionAmount (INR)</th>\n",
       "      <th>TransactionHourOfDay</th>\n",
       "      <th>TransactionTimeOfDay</th>\n",
       "      <th>CustomerAge</th>\n",
       "      <th>TransactionMonth</th>\n",
       "      <th>TransactionDay</th>\n",
       "      <th>cluster</th>\n",
       "      <th>region</th>\n",
       "    </tr>\n",
       "  </thead>\n",
       "  <tbody>\n",
       "    <tr>\n",
       "      <th>0</th>\n",
       "      <td>T1</td>\n",
       "      <td>C5841053</td>\n",
       "      <td>10/1/94</td>\n",
       "      <td>F</td>\n",
       "      <td>JAMSHEDPUR</td>\n",
       "      <td>17,819</td>\n",
       "      <td>2016-02-08</td>\n",
       "      <td>25</td>\n",
       "      <td>18</td>\n",
       "      <td>PM</td>\n",
       "      <td>28</td>\n",
       "      <td>2</td>\n",
       "      <td>0</td>\n",
       "      <td>3</td>\n",
       "      <td>Other</td>\n",
       "    </tr>\n",
       "    <tr>\n",
       "      <th>1</th>\n",
       "      <td>T2</td>\n",
       "      <td>C2142763</td>\n",
       "      <td>4/4/57</td>\n",
       "      <td>M</td>\n",
       "      <td>JHAJJAR</td>\n",
       "      <td>2,271</td>\n",
       "      <td>2016-02-08</td>\n",
       "      <td>27,999</td>\n",
       "      <td>18</td>\n",
       "      <td>PM</td>\n",
       "      <td>65</td>\n",
       "      <td>2</td>\n",
       "      <td>0</td>\n",
       "      <td>1</td>\n",
       "      <td>Other</td>\n",
       "    </tr>\n",
       "    <tr>\n",
       "      <th>2</th>\n",
       "      <td>T3</td>\n",
       "      <td>C4417068</td>\n",
       "      <td>26/11/96</td>\n",
       "      <td>F</td>\n",
       "      <td>MUMBAI</td>\n",
       "      <td>17,874</td>\n",
       "      <td>2016-02-08</td>\n",
       "      <td>459</td>\n",
       "      <td>18</td>\n",
       "      <td>PM</td>\n",
       "      <td>26</td>\n",
       "      <td>2</td>\n",
       "      <td>0</td>\n",
       "      <td>3</td>\n",
       "      <td>Big city</td>\n",
       "    </tr>\n",
       "    <tr>\n",
       "      <th>3</th>\n",
       "      <td>T4</td>\n",
       "      <td>C5342380</td>\n",
       "      <td>14/9/73</td>\n",
       "      <td>F</td>\n",
       "      <td>MUMBAI</td>\n",
       "      <td>866,503</td>\n",
       "      <td>2016-02-08</td>\n",
       "      <td>2,060</td>\n",
       "      <td>18</td>\n",
       "      <td>PM</td>\n",
       "      <td>49</td>\n",
       "      <td>2</td>\n",
       "      <td>0</td>\n",
       "      <td>3</td>\n",
       "      <td>Big city</td>\n",
       "    </tr>\n",
       "    <tr>\n",
       "      <th>4</th>\n",
       "      <td>T5</td>\n",
       "      <td>C9031234</td>\n",
       "      <td>24/3/88</td>\n",
       "      <td>F</td>\n",
       "      <td>NAVI MUMBAI</td>\n",
       "      <td>6,714</td>\n",
       "      <td>2016-02-08</td>\n",
       "      <td>1,762</td>\n",
       "      <td>5</td>\n",
       "      <td>AM</td>\n",
       "      <td>34</td>\n",
       "      <td>2</td>\n",
       "      <td>0</td>\n",
       "      <td>3</td>\n",
       "      <td>Other</td>\n",
       "    </tr>\n",
       "    <tr>\n",
       "      <th>...</th>\n",
       "      <td>...</td>\n",
       "      <td>...</td>\n",
       "      <td>...</td>\n",
       "      <td>...</td>\n",
       "      <td>...</td>\n",
       "      <td>...</td>\n",
       "      <td>...</td>\n",
       "      <td>...</td>\n",
       "      <td>...</td>\n",
       "      <td>...</td>\n",
       "      <td>...</td>\n",
       "      <td>...</td>\n",
       "      <td>...</td>\n",
       "      <td>...</td>\n",
       "      <td>...</td>\n",
       "    </tr>\n",
       "    <tr>\n",
       "      <th>1048562</th>\n",
       "      <td>T1048563</td>\n",
       "      <td>C8020229</td>\n",
       "      <td>8/4/90</td>\n",
       "      <td>M</td>\n",
       "      <td>NEW DELHI</td>\n",
       "      <td>7,635</td>\n",
       "      <td>2016-09-18</td>\n",
       "      <td>799</td>\n",
       "      <td>6</td>\n",
       "      <td>AM</td>\n",
       "      <td>32</td>\n",
       "      <td>9</td>\n",
       "      <td>6</td>\n",
       "      <td>0</td>\n",
       "      <td>Big city</td>\n",
       "    </tr>\n",
       "    <tr>\n",
       "      <th>1048563</th>\n",
       "      <td>T1048564</td>\n",
       "      <td>C6459278</td>\n",
       "      <td>20/2/92</td>\n",
       "      <td>M</td>\n",
       "      <td>NASHIK</td>\n",
       "      <td>27,311</td>\n",
       "      <td>2016-09-18</td>\n",
       "      <td>460</td>\n",
       "      <td>6</td>\n",
       "      <td>AM</td>\n",
       "      <td>30</td>\n",
       "      <td>9</td>\n",
       "      <td>6</td>\n",
       "      <td>0</td>\n",
       "      <td>Other</td>\n",
       "    </tr>\n",
       "    <tr>\n",
       "      <th>1048564</th>\n",
       "      <td>T1048565</td>\n",
       "      <td>C6412354</td>\n",
       "      <td>18/5/89</td>\n",
       "      <td>M</td>\n",
       "      <td>HYDERABAD</td>\n",
       "      <td>221,757</td>\n",
       "      <td>2016-09-18</td>\n",
       "      <td>770</td>\n",
       "      <td>5</td>\n",
       "      <td>AM</td>\n",
       "      <td>33</td>\n",
       "      <td>9</td>\n",
       "      <td>6</td>\n",
       "      <td>0</td>\n",
       "      <td>Other</td>\n",
       "    </tr>\n",
       "    <tr>\n",
       "      <th>1048565</th>\n",
       "      <td>T1048566</td>\n",
       "      <td>C6420483</td>\n",
       "      <td>30/8/78</td>\n",
       "      <td>M</td>\n",
       "      <td>VISAKHAPATNAM</td>\n",
       "      <td>10,118</td>\n",
       "      <td>2016-09-18</td>\n",
       "      <td>1,000</td>\n",
       "      <td>6</td>\n",
       "      <td>AM</td>\n",
       "      <td>44</td>\n",
       "      <td>9</td>\n",
       "      <td>6</td>\n",
       "      <td>1</td>\n",
       "      <td>Other</td>\n",
       "    </tr>\n",
       "    <tr>\n",
       "      <th>1048566</th>\n",
       "      <td>T1048567</td>\n",
       "      <td>C8337524</td>\n",
       "      <td>5/3/84</td>\n",
       "      <td>M</td>\n",
       "      <td>PUNE</td>\n",
       "      <td>75,734</td>\n",
       "      <td>2016-09-18</td>\n",
       "      <td>1,166</td>\n",
       "      <td>5</td>\n",
       "      <td>AM</td>\n",
       "      <td>38</td>\n",
       "      <td>9</td>\n",
       "      <td>6</td>\n",
       "      <td>0</td>\n",
       "      <td>Other</td>\n",
       "    </tr>\n",
       "  </tbody>\n",
       "</table>\n",
       "<p>1048566 rows × 15 columns</p>\n",
       "</div>"
      ],
      "text/plain": [
       "        TransactionID CustomerID CustomerDOB CustGender   CustLocation  \\\n",
       "0                  T1   C5841053     10/1/94          F     JAMSHEDPUR   \n",
       "1                  T2   C2142763      4/4/57          M        JHAJJAR   \n",
       "2                  T3   C4417068    26/11/96          F         MUMBAI   \n",
       "3                  T4   C5342380     14/9/73          F         MUMBAI   \n",
       "4                  T5   C9031234     24/3/88          F    NAVI MUMBAI   \n",
       "...               ...        ...         ...        ...            ...   \n",
       "1048562      T1048563   C8020229      8/4/90          M      NEW DELHI   \n",
       "1048563      T1048564   C6459278     20/2/92          M         NASHIK   \n",
       "1048564      T1048565   C6412354     18/5/89          M      HYDERABAD   \n",
       "1048565      T1048566   C6420483     30/8/78          M  VISAKHAPATNAM   \n",
       "1048566      T1048567   C8337524      5/3/84          M           PUNE   \n",
       "\n",
       "         CustAccountBalance TransactionDate  TransactionAmount (INR)  \\\n",
       "0                    17,819      2016-02-08                       25   \n",
       "1                     2,271      2016-02-08                   27,999   \n",
       "2                    17,874      2016-02-08                      459   \n",
       "3                   866,503      2016-02-08                    2,060   \n",
       "4                     6,714      2016-02-08                    1,762   \n",
       "...                     ...             ...                      ...   \n",
       "1048562               7,635      2016-09-18                      799   \n",
       "1048563              27,311      2016-09-18                      460   \n",
       "1048564             221,757      2016-09-18                      770   \n",
       "1048565              10,118      2016-09-18                    1,000   \n",
       "1048566              75,734      2016-09-18                    1,166   \n",
       "\n",
       "         TransactionHourOfDay TransactionTimeOfDay  CustomerAge  \\\n",
       "0                          18                   PM           28   \n",
       "1                          18                   PM           65   \n",
       "2                          18                   PM           26   \n",
       "3                          18                   PM           49   \n",
       "4                           5                   AM           34   \n",
       "...                       ...                  ...          ...   \n",
       "1048562                     6                   AM           32   \n",
       "1048563                     6                   AM           30   \n",
       "1048564                     5                   AM           33   \n",
       "1048565                     6                   AM           44   \n",
       "1048566                     5                   AM           38   \n",
       "\n",
       "         TransactionMonth  TransactionDay  cluster    region  \n",
       "0                       2               0        3     Other  \n",
       "1                       2               0        1     Other  \n",
       "2                       2               0        3  Big city  \n",
       "3                       2               0        3  Big city  \n",
       "4                       2               0        3     Other  \n",
       "...                   ...             ...      ...       ...  \n",
       "1048562                 9               6        0  Big city  \n",
       "1048563                 9               6        0     Other  \n",
       "1048564                 9               6        0     Other  \n",
       "1048565                 9               6        1     Other  \n",
       "1048566                 9               6        0     Other  \n",
       "\n",
       "[1048566 rows x 15 columns]"
      ]
     },
     "execution_count": 295,
     "metadata": {},
     "output_type": "execute_result"
    }
   ],
   "source": [
    "data_cluster"
   ]
  },
  {
   "cell_type": "code",
   "execution_count": 296,
   "id": "f4b2c0fc",
   "metadata": {},
   "outputs": [],
   "source": [
    "data_cluster['start_date'] = data_cluster.groupby('CustomerID')['TransactionDate'].transform('min')"
   ]
  },
  {
   "cell_type": "code",
   "execution_count": 297,
   "id": "9b3ad9d5",
   "metadata": {},
   "outputs": [],
   "source": [
    "\n",
    "data_cluster['region'] = np.where((data_cluster.CustLocation =='NEW DELHI') \n",
    "                                  |(data_cluster.CustLocation =='DELHI')\n",
    "                                  |(data_cluster.CustLocation =='BANGALORE')\n",
    "                                  |(data_cluster.CustLocation =='MUMBAI')\n",
    "                                  ,'Big city', 'Other')"
   ]
  },
  {
   "cell_type": "code",
   "execution_count": 298,
   "id": "a5a08b90",
   "metadata": {},
   "outputs": [],
   "source": [
    "data_cluster['TransactionDate'] = data_cluster['TransactionDate'].apply(pd.to_datetime)"
   ]
  },
  {
   "cell_type": "code",
   "execution_count": 299,
   "id": "6a14c66b",
   "metadata": {},
   "outputs": [
    {
     "data": {
      "text/html": [
       "<div>\n",
       "<style scoped>\n",
       "    .dataframe tbody tr th:only-of-type {\n",
       "        vertical-align: middle;\n",
       "    }\n",
       "\n",
       "    .dataframe tbody tr th {\n",
       "        vertical-align: top;\n",
       "    }\n",
       "\n",
       "    .dataframe thead th {\n",
       "        text-align: right;\n",
       "    }\n",
       "</style>\n",
       "<table border=\"1\" class=\"dataframe\">\n",
       "  <thead>\n",
       "    <tr style=\"text-align: right;\">\n",
       "      <th></th>\n",
       "      <th>TransactionID</th>\n",
       "      <th>CustomerID</th>\n",
       "      <th>CustomerDOB</th>\n",
       "      <th>CustGender</th>\n",
       "      <th>CustLocation</th>\n",
       "      <th>CustAccountBalance</th>\n",
       "      <th>TransactionDate</th>\n",
       "      <th>TransactionAmount (INR)</th>\n",
       "      <th>TransactionHourOfDay</th>\n",
       "      <th>TransactionTimeOfDay</th>\n",
       "      <th>CustomerAge</th>\n",
       "      <th>TransactionMonth</th>\n",
       "      <th>TransactionDay</th>\n",
       "      <th>cluster</th>\n",
       "      <th>region</th>\n",
       "      <th>start_date</th>\n",
       "    </tr>\n",
       "  </thead>\n",
       "  <tbody>\n",
       "    <tr>\n",
       "      <th>0</th>\n",
       "      <td>T1</td>\n",
       "      <td>C5841053</td>\n",
       "      <td>10/1/94</td>\n",
       "      <td>F</td>\n",
       "      <td>JAMSHEDPUR</td>\n",
       "      <td>17,819</td>\n",
       "      <td>2016-02-08</td>\n",
       "      <td>25</td>\n",
       "      <td>18</td>\n",
       "      <td>PM</td>\n",
       "      <td>28</td>\n",
       "      <td>2</td>\n",
       "      <td>0</td>\n",
       "      <td>3</td>\n",
       "      <td>Other</td>\n",
       "      <td>2016-02-08</td>\n",
       "    </tr>\n",
       "    <tr>\n",
       "      <th>1</th>\n",
       "      <td>T2</td>\n",
       "      <td>C2142763</td>\n",
       "      <td>4/4/57</td>\n",
       "      <td>M</td>\n",
       "      <td>JHAJJAR</td>\n",
       "      <td>2,271</td>\n",
       "      <td>2016-02-08</td>\n",
       "      <td>27,999</td>\n",
       "      <td>18</td>\n",
       "      <td>PM</td>\n",
       "      <td>65</td>\n",
       "      <td>2</td>\n",
       "      <td>0</td>\n",
       "      <td>1</td>\n",
       "      <td>Other</td>\n",
       "      <td>2016-02-08</td>\n",
       "    </tr>\n",
       "    <tr>\n",
       "      <th>2</th>\n",
       "      <td>T3</td>\n",
       "      <td>C4417068</td>\n",
       "      <td>26/11/96</td>\n",
       "      <td>F</td>\n",
       "      <td>MUMBAI</td>\n",
       "      <td>17,874</td>\n",
       "      <td>2016-02-08</td>\n",
       "      <td>459</td>\n",
       "      <td>18</td>\n",
       "      <td>PM</td>\n",
       "      <td>26</td>\n",
       "      <td>2</td>\n",
       "      <td>0</td>\n",
       "      <td>3</td>\n",
       "      <td>Big city</td>\n",
       "      <td>2016-02-08</td>\n",
       "    </tr>\n",
       "    <tr>\n",
       "      <th>3</th>\n",
       "      <td>T4</td>\n",
       "      <td>C5342380</td>\n",
       "      <td>14/9/73</td>\n",
       "      <td>F</td>\n",
       "      <td>MUMBAI</td>\n",
       "      <td>866,503</td>\n",
       "      <td>2016-02-08</td>\n",
       "      <td>2,060</td>\n",
       "      <td>18</td>\n",
       "      <td>PM</td>\n",
       "      <td>49</td>\n",
       "      <td>2</td>\n",
       "      <td>0</td>\n",
       "      <td>3</td>\n",
       "      <td>Big city</td>\n",
       "      <td>2016-02-08</td>\n",
       "    </tr>\n",
       "    <tr>\n",
       "      <th>4</th>\n",
       "      <td>T5</td>\n",
       "      <td>C9031234</td>\n",
       "      <td>24/3/88</td>\n",
       "      <td>F</td>\n",
       "      <td>NAVI MUMBAI</td>\n",
       "      <td>6,714</td>\n",
       "      <td>2016-02-08</td>\n",
       "      <td>1,762</td>\n",
       "      <td>5</td>\n",
       "      <td>AM</td>\n",
       "      <td>34</td>\n",
       "      <td>2</td>\n",
       "      <td>0</td>\n",
       "      <td>3</td>\n",
       "      <td>Other</td>\n",
       "      <td>2016-02-08</td>\n",
       "    </tr>\n",
       "    <tr>\n",
       "      <th>...</th>\n",
       "      <td>...</td>\n",
       "      <td>...</td>\n",
       "      <td>...</td>\n",
       "      <td>...</td>\n",
       "      <td>...</td>\n",
       "      <td>...</td>\n",
       "      <td>...</td>\n",
       "      <td>...</td>\n",
       "      <td>...</td>\n",
       "      <td>...</td>\n",
       "      <td>...</td>\n",
       "      <td>...</td>\n",
       "      <td>...</td>\n",
       "      <td>...</td>\n",
       "      <td>...</td>\n",
       "      <td>...</td>\n",
       "    </tr>\n",
       "    <tr>\n",
       "      <th>1048562</th>\n",
       "      <td>T1048563</td>\n",
       "      <td>C8020229</td>\n",
       "      <td>8/4/90</td>\n",
       "      <td>M</td>\n",
       "      <td>NEW DELHI</td>\n",
       "      <td>7,635</td>\n",
       "      <td>2016-09-18</td>\n",
       "      <td>799</td>\n",
       "      <td>6</td>\n",
       "      <td>AM</td>\n",
       "      <td>32</td>\n",
       "      <td>9</td>\n",
       "      <td>6</td>\n",
       "      <td>0</td>\n",
       "      <td>Big city</td>\n",
       "      <td>2016-09-18</td>\n",
       "    </tr>\n",
       "    <tr>\n",
       "      <th>1048563</th>\n",
       "      <td>T1048564</td>\n",
       "      <td>C6459278</td>\n",
       "      <td>20/2/92</td>\n",
       "      <td>M</td>\n",
       "      <td>NASHIK</td>\n",
       "      <td>27,311</td>\n",
       "      <td>2016-09-18</td>\n",
       "      <td>460</td>\n",
       "      <td>6</td>\n",
       "      <td>AM</td>\n",
       "      <td>30</td>\n",
       "      <td>9</td>\n",
       "      <td>6</td>\n",
       "      <td>0</td>\n",
       "      <td>Other</td>\n",
       "      <td>2016-09-18</td>\n",
       "    </tr>\n",
       "    <tr>\n",
       "      <th>1048564</th>\n",
       "      <td>T1048565</td>\n",
       "      <td>C6412354</td>\n",
       "      <td>18/5/89</td>\n",
       "      <td>M</td>\n",
       "      <td>HYDERABAD</td>\n",
       "      <td>221,757</td>\n",
       "      <td>2016-09-18</td>\n",
       "      <td>770</td>\n",
       "      <td>5</td>\n",
       "      <td>AM</td>\n",
       "      <td>33</td>\n",
       "      <td>9</td>\n",
       "      <td>6</td>\n",
       "      <td>0</td>\n",
       "      <td>Other</td>\n",
       "      <td>2016-09-15</td>\n",
       "    </tr>\n",
       "    <tr>\n",
       "      <th>1048565</th>\n",
       "      <td>T1048566</td>\n",
       "      <td>C6420483</td>\n",
       "      <td>30/8/78</td>\n",
       "      <td>M</td>\n",
       "      <td>VISAKHAPATNAM</td>\n",
       "      <td>10,118</td>\n",
       "      <td>2016-09-18</td>\n",
       "      <td>1,000</td>\n",
       "      <td>6</td>\n",
       "      <td>AM</td>\n",
       "      <td>44</td>\n",
       "      <td>9</td>\n",
       "      <td>6</td>\n",
       "      <td>1</td>\n",
       "      <td>Other</td>\n",
       "      <td>2016-09-18</td>\n",
       "    </tr>\n",
       "    <tr>\n",
       "      <th>1048566</th>\n",
       "      <td>T1048567</td>\n",
       "      <td>C8337524</td>\n",
       "      <td>5/3/84</td>\n",
       "      <td>M</td>\n",
       "      <td>PUNE</td>\n",
       "      <td>75,734</td>\n",
       "      <td>2016-09-18</td>\n",
       "      <td>1,166</td>\n",
       "      <td>5</td>\n",
       "      <td>AM</td>\n",
       "      <td>38</td>\n",
       "      <td>9</td>\n",
       "      <td>6</td>\n",
       "      <td>0</td>\n",
       "      <td>Other</td>\n",
       "      <td>2016-07-09</td>\n",
       "    </tr>\n",
       "  </tbody>\n",
       "</table>\n",
       "<p>1048566 rows × 16 columns</p>\n",
       "</div>"
      ],
      "text/plain": [
       "        TransactionID CustomerID CustomerDOB CustGender   CustLocation  \\\n",
       "0                  T1   C5841053     10/1/94          F     JAMSHEDPUR   \n",
       "1                  T2   C2142763      4/4/57          M        JHAJJAR   \n",
       "2                  T3   C4417068    26/11/96          F         MUMBAI   \n",
       "3                  T4   C5342380     14/9/73          F         MUMBAI   \n",
       "4                  T5   C9031234     24/3/88          F    NAVI MUMBAI   \n",
       "...               ...        ...         ...        ...            ...   \n",
       "1048562      T1048563   C8020229      8/4/90          M      NEW DELHI   \n",
       "1048563      T1048564   C6459278     20/2/92          M         NASHIK   \n",
       "1048564      T1048565   C6412354     18/5/89          M      HYDERABAD   \n",
       "1048565      T1048566   C6420483     30/8/78          M  VISAKHAPATNAM   \n",
       "1048566      T1048567   C8337524      5/3/84          M           PUNE   \n",
       "\n",
       "         CustAccountBalance TransactionDate  TransactionAmount (INR)  \\\n",
       "0                    17,819      2016-02-08                       25   \n",
       "1                     2,271      2016-02-08                   27,999   \n",
       "2                    17,874      2016-02-08                      459   \n",
       "3                   866,503      2016-02-08                    2,060   \n",
       "4                     6,714      2016-02-08                    1,762   \n",
       "...                     ...             ...                      ...   \n",
       "1048562               7,635      2016-09-18                      799   \n",
       "1048563              27,311      2016-09-18                      460   \n",
       "1048564             221,757      2016-09-18                      770   \n",
       "1048565              10,118      2016-09-18                    1,000   \n",
       "1048566              75,734      2016-09-18                    1,166   \n",
       "\n",
       "         TransactionHourOfDay TransactionTimeOfDay  CustomerAge  \\\n",
       "0                          18                   PM           28   \n",
       "1                          18                   PM           65   \n",
       "2                          18                   PM           26   \n",
       "3                          18                   PM           49   \n",
       "4                           5                   AM           34   \n",
       "...                       ...                  ...          ...   \n",
       "1048562                     6                   AM           32   \n",
       "1048563                     6                   AM           30   \n",
       "1048564                     5                   AM           33   \n",
       "1048565                     6                   AM           44   \n",
       "1048566                     5                   AM           38   \n",
       "\n",
       "         TransactionMonth  TransactionDay  cluster    region start_date  \n",
       "0                       2               0        3     Other 2016-02-08  \n",
       "1                       2               0        1     Other 2016-02-08  \n",
       "2                       2               0        3  Big city 2016-02-08  \n",
       "3                       2               0        3  Big city 2016-02-08  \n",
       "4                       2               0        3     Other 2016-02-08  \n",
       "...                   ...             ...      ...       ...        ...  \n",
       "1048562                 9               6        0  Big city 2016-09-18  \n",
       "1048563                 9               6        0     Other 2016-09-18  \n",
       "1048564                 9               6        0     Other 2016-09-15  \n",
       "1048565                 9               6        1     Other 2016-09-18  \n",
       "1048566                 9               6        0     Other 2016-07-09  \n",
       "\n",
       "[1048566 rows x 16 columns]"
      ]
     },
     "execution_count": 299,
     "metadata": {},
     "output_type": "execute_result"
    }
   ],
   "source": [
    "data_cluster"
   ]
  },
  {
   "cell_type": "code",
   "execution_count": 300,
   "id": "1992dfcd",
   "metadata": {},
   "outputs": [],
   "source": [
    "dd = data_cluster \\\n",
    "        .groupby(['CustomerID', 'TransactionDate', 'start_date', 'region'], as_index=False)['TransactionID'] \\\n",
    "        .nunique()"
   ]
  },
  {
   "cell_type": "code",
   "execution_count": 301,
   "id": "45e69337",
   "metadata": {},
   "outputs": [],
   "source": [
    "dd['start_month'] = dd['start_date'].apply(lambda x: x.replace(day=1))"
   ]
  },
  {
   "cell_type": "code",
   "execution_count": 302,
   "id": "378d4592",
   "metadata": {},
   "outputs": [],
   "source": [
    "dd['months_diff'] = dd['TransactionDate'] - dd['start_date']\n",
    "dd['months_diff'] = dd['months_diff'].apply(lambda x: round(x.days/28))"
   ]
  },
  {
   "cell_type": "code",
   "execution_count": 303,
   "id": "f9583e59",
   "metadata": {},
   "outputs": [],
   "source": [
    "dd = dd[dd.start_month<'2019-01-01']"
   ]
  },
  {
   "cell_type": "code",
   "execution_count": 304,
   "id": "43f39a83",
   "metadata": {},
   "outputs": [],
   "source": [
    "n_users = dd.groupby(['start_month', 'months_diff', 'region'], as_index=False)['CustomerID'].nunique()"
   ]
  },
  {
   "cell_type": "code",
   "execution_count": 305,
   "id": "aa10de0a",
   "metadata": {},
   "outputs": [],
   "source": [
    "cohorts = n_users \\\n",
    "            .pivot_table(index=['start_month', 'region'], columns='months_diff', values='CustomerID')"
   ]
  },
  {
   "cell_type": "code",
   "execution_count": 306,
   "id": "48922855",
   "metadata": {},
   "outputs": [],
   "source": [
    "cohort_size = cohorts.iloc[:, 0]"
   ]
  },
  {
   "cell_type": "code",
   "execution_count": 307,
   "id": "ec2a6519",
   "metadata": {},
   "outputs": [],
   "source": [
    "retention = cohorts.divide(cohort_size, axis=0)"
   ]
  },
  {
   "cell_type": "code",
   "execution_count": 319,
   "id": "81833f90",
   "metadata": {},
   "outputs": [],
   "source": [
    "big_city = retention.loc[:, 'Big city', :].iloc[:, :15]\n",
    "other = retention.loc[:, 'Other', :].iloc[:, :15]"
   ]
  },
  {
   "cell_type": "code",
   "execution_count": 320,
   "id": "b1d20d73",
   "metadata": {},
   "outputs": [
    {
     "data": {
      "text/plain": [
       "<AxesSubplot:xlabel='months_diff', ylabel='start_month'>"
      ]
     },
     "execution_count": 320,
     "metadata": {},
     "output_type": "execute_result"
    },
    {
     "data": {
      "image/png": "[encoded data removed]",
      "text/plain": [
       "<Figure size 864x576 with 2 Axes>"
      ]
     },
     "metadata": {
      "needs_background": "light"
     },
     "output_type": "display_data"
    }
   ],
   "source": [
    "plt.figure(figsize=(12, 8))\n",
    "             \n",
    "sns.heatmap(big_city.iloc[:,1:], annot=True, cmap='Blues')"
   ]
  },
  {
   "cell_type": "code",
   "execution_count": 310,
   "id": "10bf6f3f",
   "metadata": {},
   "outputs": [
    {
     "data": {
      "text/plain": [
       "<AxesSubplot:xlabel='months_diff', ylabel='start_month'>"
      ]
     },
     "execution_count": 310,
     "metadata": {},
     "output_type": "execute_result"
    },
    {
     "data": {
      "image/png": "[encoded data removed]",
      "text/plain": [
       "<Figure size 864x576 with 2 Axes>"
      ]
     },
     "metadata": {
      "needs_background": "light"
     },
     "output_type": "display_data"
    }
   ],
   "source": [
    "plt.figure(figsize=(12, 8))\n",
    "sns.heatmap(other.iloc[:,1:], annot=True)"
   ]
  },
  {
   "cell_type": "markdown",
   "id": "7c55197c",
   "metadata": {},
   "source": [
    "Это retention для 2 кластера, синим - в крупных городах, красным - в остальных. Аналогично можно посмотреть остальные кластеры."
   ]
  },
  {
   "cell_type": "code",
   "execution_count": 311,
   "id": "7b6c6616",
   "metadata": {},
   "outputs": [
    {
     "data": {
      "text/plain": [
       "0    687334\n",
       "3    206679\n",
       "1    150257\n",
       "4      4123\n",
       "2       173\n",
       "Name: cluster, dtype: int64"
      ]
     },
     "execution_count": 311,
     "metadata": {},
     "output_type": "execute_result"
    }
   ],
   "source": [
    " data[\"cluster\"].value_counts()"
   ]
  },
  {
   "cell_type": "code",
   "execution_count": 312,
   "id": "45eb0673",
   "metadata": {},
   "outputs": [
    {
     "data": {
      "text/plain": [
       "Other       707318\n",
       "Big city    341248\n",
       "Name: region, dtype: int64"
      ]
     },
     "execution_count": 312,
     "metadata": {},
     "output_type": "execute_result"
    }
   ],
   "source": [
    " data_cluster[\"region\"].value_counts()"
   ]
  },
  {
   "cell_type": "code",
   "execution_count": 313,
   "id": "77b2136f",
   "metadata": {},
   "outputs": [],
   "source": [
    "\n",
    "data['region'] = np.where((data.CustLocation =='NEW DELHI') \n",
    "                                  |(data.CustLocation =='DELHI')\n",
    "                                  |(data.CustLocation =='BANGALORE')\n",
    "                                  |(data.CustLocation =='MUMBAI')\n",
    "                                  ,'Big city', 'Other')"
   ]
  },
  {
   "cell_type": "code",
   "execution_count": 314,
   "id": "d45cc034",
   "metadata": {},
   "outputs": [
    {
     "data": {
      "text/plain": [
       "Other       707318\n",
       "Big city    341248\n",
       "Name: region, dtype: int64"
      ]
     },
     "execution_count": 314,
     "metadata": {},
     "output_type": "execute_result"
    }
   ],
   "source": [
    " data[\"region\"].value_counts()"
   ]
  },
  {
   "cell_type": "code",
   "execution_count": null,
   "id": "569dbe8b",
   "metadata": {},
   "outputs": [],
   "source": []
  }
 ],
 "metadata": {
  "kernelspec": {
   "display_name": "Python 3 (ipykernel)",
   "language": "python",
   "name": "python3"
  },
  "language_info": {
   "codemirror_mode": {
    "name": "ipython",
    "version": 3
   },
   "file_extension": ".py",
   "mimetype": "text/x-python",
   "name": "python",
   "nbconvert_exporter": "python",
   "pygments_lexer": "ipython3",
   "version": "3.9.12"
  }
 },
 "nbformat": 4,
 "nbformat_minor": 5
}
